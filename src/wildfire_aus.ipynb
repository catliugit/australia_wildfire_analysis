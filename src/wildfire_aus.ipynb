{
 "cells": [
  {
   "cell_type": "code",
   "execution_count": 1,
   "metadata": {},
   "outputs": [],
   "source": [
    "import numpy as np\n",
    "import pandas as pd\n",
    "import matplotlib.pyplot as plt\n",
    "import seaborn as sns\n",
    "import folium\n",
    "%matplotlib inline"
   ]
  },
 {
      "cell_type": "code",
      "execution_count": 2,
      "metadata": {},
      "outputs": [
        {
          "name": "stdout",
          "output_type": "stream",
          "text": [
            "Data read into a pandas dataframe!\n"
          ]
        }
      ],
      "source": [
        "import requests  # Library for making HTTP requests to download data\n",
        "from io import StringIO  # Library for handling string data as file-like objects\n",
        "\n",
        "# Define the URL for the CSV file\n",
        "URL = \"https://cf-courses-data.s3.us.cloud-object-storage.appdomain.cloud/IBMDeveloperSkillsNetwork-DV0101EN-SkillsNetwork/Data%20Files/Historical_Wildfires.csv\"\n",
        "\n",
        "# Fetch the CSV file using requests\n",
        "response = requests.get(URL)\n",
        "response.raise_for_status()  # Check if the request was successful\n",
        "\n",
        "# Convert the content of the response into a file-like object\n",
        "csv_content = StringIO(response.text)\n",
        "\n",
        "# Read the CSV file into a pandas DataFrame\n",
        "df = pd.read_csv(csv_content)\n",
        "\n",
        "print('Data read into a pandas dataframe!')\n",
        "df.head()  # Display the first few rows of the DataFrame"
      ]
    },
  {
   "cell_type": "code",
   "execution_count": 3,
   "metadata": {},
   "outputs": [],
   "source": [
    "# Verify the column names of each variable\n",
    "# Column names\n",
    "df.columns.tolist()"
   ]
  },
  {
   "cell_type": "code",
   "execution_count": 4,
   "metadata": {},
   "outputs": [],
   "source": [
    "#Verify the data types of each variable\n",
    "# #data type\n",
    "df.dtypes.tolist()"
   ]
  },
  {
   "cell_type": "code",
   "execution_count": 5,
   "metadata": {},
   "outputs": [],
   "source": [
    "# Extract 'Year' and 'Month' from date and include in the dataframe as separate columns\n",
    "df['Year'] = pd.to_datetime(df['Date']).dt.year\n",
    "df['Month'] = pd.to_datetime(df['Date']).dt.month"
   ]
 },
  {
   "cell_type": "code",
   "execution_count": 6,
   "metadata": {},
   "outputs": [],
   "source": [
    "# Verify the columns again\n",
    "df.dtypes.tolist()"
   ]
  },
  {
   "cell_type": "code",
   "execution_count": 7,
   "metadata": {},
   "outputs": [],
   "source": [
    "# Show change in average estimated fire area over time using pandas to plot\n",
    "\n",
    "plt.figure(figsize=(12,6))\n",
    "\n",
    "# Grouping the data by 'Year' and calculating the mean of 'Estimated_fire_area'\n",
    "df_new = df.groupby('Year')['Estimated_fire_area'].mean()\n",
    "\n",
    "# Plotting the data\n",
    "df_new.plot(x=df_new.index, y=df_new.values)\n",
    "plt.xlabel('Year')\n",
    "plt.ylabel('Average Estimated Fire Area (km²)')\n",
    "plt.title('Estimated Fire Area over Time')\n",
    "plt.show()"
   ]
  },
  {
   "cell_type": "code",
   "execution_count": 8,
   "metadata": {},
   "outputs": [],
   "source": [
    "# Peak in the plot between 2010 to 2013. Narrow down our finding, by plotting the estimated fire area for year grouped together with month.\n",
    "# Grouping the data by both 'Year' and 'Month', and calculating the mean of 'Estimated_fire_area'\n",
    "df_new = df.groupby(['Year', 'Month'])['Estimated_fire_area'].mean()\n",
    "# Plotting the data\n",
    "plt.figure(figsize=(12,6))\n",
    "df_new.plot()\n",
    "plt.xlabel('Year and Month')\n",
    "plt.ylabel('Average Estimated Fire Area (km²)')\n",
    "plt.title('Estimated Fire Area by Month Over Time')\n",
    "plt.show()"
   ]
  },
 {
   "cell_type": "code",
   "execution_count": 9,
   "metadata": {},
   "outputs": [],
   "source": [
    "# Look at Distribution of Mean Using Seaborn to Make Barplot\n",
    "# Identify the regions in the dataset (apply it on series only)\n",
    "df['Region'].unique()\n",
    "# Creating a bar plot using seaborn to visualize the distribution of mean estimated fire brightness across regions\n",
    "plt.figure(figsize=(10, 6))\n",
    "sns.barplot(data=df, x='Region', y='Mean_estimated_fire_brightness')\n",
    "plt.xlabel('Region')\n",
    "plt.ylabel('Mean Estimated Fire Brightness (Kelvin)')\n",
    "plt.title('Distribution of Mean Estimated Fire Brightness across Regions')\n",
    "plt.show()"
   ]
  },
  {
   "cell_type": "code",
   "execution_count": 10,
   "metadata": {},
   "outputs": [],
   "source": [
    "# Creating a pie chart to visualize the portion of count of pixels for presumed vegetation fires across regions\n",
    "plt.figure(figsize=(10, 6))\n",
    "# Grouping the data by region and summing the counts\n",
    "region_counts = df.groupby('Region')['Count'].sum()\n",
    "# Creating the pie chart using plt.pie function\n",
    "# Labels are set to the region names, and autopct is used to display percentage\n",
    "plt.pie(region_counts, labels=region_counts.index, autopct='%1.1f%%')\n",
    "plt.title('Percentage of Pixels for Presumed Vegetation Fires by Region')\n",
    "plt.axis('equal')\n",
    "plt.show()"
   ]
  },
  {
   "cell_type": "code",
   "execution_count": 11,
   "metadata": {},
   "outputs": [],
   "source": [
    "# Creating a histogram of mean estimated fire brightness\n",
    "plt.figure(figsize=(10, 6))\n",
    "# Using plt.hist to create the histogram\n",
    "# Setting the number of bins to 20 for better visualization\n",
    "plt.hist(x=df['Mean_estimated_fire_brightness'], bins=20)\n",
    "plt.xlabel('Mean Estimated Fire Brightness (Kelvin)')\n",
    "plt.ylabel('Count')\n",
    "plt.title('Histogram of Mean Estimated Fire Brightness')\n",
    "plt.show()"
   ]
  },
  {
   "cell_type": "code",
   "execution_count": 12,
   "metadata": {},
   "outputs": [],
   "source": [
    "# Creating a histogram to visualize the distribution of mean estimated fire brightness across regions using Seaborn\n",
    "# Using sns.histplot to create the histogram\n",
    "# Specifying the DataFrame (data=df) and the column for the x-axis (x='Mean_estimated_fire_brightness')\n",
    "# Adding hue='Region' to differentiate the distribution across regions\n",
    "plt.figure(figsize=(10, 6))\n",
    "sns.histplot(data=df, x='Mean_estimated_fire_brightness', hue='Region')\n",
    "plt.xlabel('Mean Estimated Fire Brightness (Kelvin)')\n",
    "plt.ylabel('Count')\n",
    "plt.title('Distribution of Mean Estimated Fire Brightness Across Regions')\n",
    "plt.show()"
   ]
  },
 {
   "cell_type": "code",
   "execution_count": 13,
   "metadata": {},
   "outputs": [],
   "source": [
    "# Creating a scatter plot to visualize the relationship between mean estimated fire radiative power and mean confidence using Seaborn\n",
    "plt.figure(figsize=(8, 6))\n",
    "sns.scatterplot(data=df, x='Mean_confidence', y='Mean_estimated_fire_radiative_power')\n",
    "plt.xlabel('Mean Estimated Fire Radiative Power (MW)')\n",
    "plt.ylabel('Mean Confidence')\n",
    "plt.title('Mean Estimated Fire Radiative Power vs. Mean Confidence')\n",
    "plt.show()"
   ]
  },
  {
   "cell_type": "code",
   "execution_count": 14,
   "metadata": {},
   "outputs": [],
   "source": [
    "# Let's mark these seven regions on the Map of Australia using Folium\n",
    "region_data = {'region': ['NSW', 'QL', 'SA', 'TA', 'VI', 'WA', 'NT'], 'Lat': [-31.8759835, -22.1646782, -30.5343665, -42.035067, -36.5986096, -25.2303005, -19.491411], 'Lon': [147.2869493, 144.5844903, 135.6301212, 146.6366887, 144.6780052, 121.0187246, 132.550964]}\n",
    "reg = pd.DataFrame(region_data)\n",
    "reg"
   ]
  }
 ],
 "metadata": {
  "kernelspec": {
   "display_name": "Python 3",
   "language": "python",
   "name": "python3"
  },
  "language_info": {
   "codemirror_mode": {
    "name": "ipython",
    "version": 3
   },
   "file_extension": ".py",
   "mimetype": "text/x-python",
   "name": "python",
   "nbconvert_exporter": "python",
   "pygments_lexer": "ipython3",
   "version": "3.12.0"
  }
 },
 "nbformat": 4,
 "nbformat_minor": 2
}
